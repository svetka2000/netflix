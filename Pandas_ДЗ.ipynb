{
 "cells": [
  {
   "cell_type": "code",
   "execution_count": 3,
   "id": "226be3ae",
   "metadata": {},
   "outputs": [],
   "source": [
    "import pandas as pd   \n",
    "import seaborn as sns\n",
    "from matplotlib import pyplot as plt"
   ]
  },
  {
   "cell_type": "code",
   "execution_count": 4,
   "id": "c22e5843",
   "metadata": {},
   "outputs": [],
   "source": [
    "#Подгрузим данные о netflix\n",
    "df = pd.read_csv(\n",
    "    'https://docs.google.com/spreadsheets/d/1Tc_aiVXrCrMNQFFDMiJGQ3Gm35szGLps_FIsonCe38Q/export?gid=481487463&format=csv'\n",
    ")"
   ]
  },
  {
   "cell_type": "code",
   "execution_count": 5,
   "id": "96bba2e6",
   "metadata": {},
   "outputs": [],
   "source": [
    "#выкидываем данны о том, что не нужно\n",
    "df=df.drop(columns=['Mobile'])\n",
    "#Называем нормально столбец\n",
    "df=df.rename(columns={'Unnamed: 5': \"currency\"})"
   ]
  },
  {
   "cell_type": "code",
   "execution_count": 6,
   "id": "ebc91bc1",
   "metadata": {},
   "outputs": [
    {
     "data": {
      "text/html": [
       "<div>\n",
       "<style scoped>\n",
       "    .dataframe tbody tr th:only-of-type {\n",
       "        vertical-align: middle;\n",
       "    }\n",
       "\n",
       "    .dataframe tbody tr th {\n",
       "        vertical-align: top;\n",
       "    }\n",
       "\n",
       "    .dataframe thead th {\n",
       "        text-align: right;\n",
       "    }\n",
       "</style>\n",
       "<table border=\"1\" class=\"dataframe\">\n",
       "  <thead>\n",
       "    <tr style=\"text-align: right;\">\n",
       "      <th></th>\n",
       "      <th>Country</th>\n",
       "      <th>Basic</th>\n",
       "      <th>Standard</th>\n",
       "      <th>Premium</th>\n",
       "      <th>currency</th>\n",
       "    </tr>\n",
       "  </thead>\n",
       "  <tbody>\n",
       "    <tr>\n",
       "      <th>0</th>\n",
       "      <td>Argentina</td>\n",
       "      <td>379.00</td>\n",
       "      <td>639.00</td>\n",
       "      <td>939.00</td>\n",
       "      <td>ARS</td>\n",
       "    </tr>\n",
       "    <tr>\n",
       "      <th>1</th>\n",
       "      <td>Australia</td>\n",
       "      <td>10.99</td>\n",
       "      <td>16.99</td>\n",
       "      <td>22.99</td>\n",
       "      <td>AUS</td>\n",
       "    </tr>\n",
       "    <tr>\n",
       "      <th>2</th>\n",
       "      <td>Austria</td>\n",
       "      <td>7.99</td>\n",
       "      <td>12.99</td>\n",
       "      <td>17.99</td>\n",
       "      <td>EUR</td>\n",
       "    </tr>\n",
       "    <tr>\n",
       "      <th>3</th>\n",
       "      <td>Belgium</td>\n",
       "      <td>8.99</td>\n",
       "      <td>13.49</td>\n",
       "      <td>17.99</td>\n",
       "      <td>EUR</td>\n",
       "    </tr>\n",
       "    <tr>\n",
       "      <th>4</th>\n",
       "      <td>Bolivia</td>\n",
       "      <td>7.99</td>\n",
       "      <td>10.99</td>\n",
       "      <td>13.99</td>\n",
       "      <td>USD</td>\n",
       "    </tr>\n",
       "    <tr>\n",
       "      <th>...</th>\n",
       "      <td>...</td>\n",
       "      <td>...</td>\n",
       "      <td>...</td>\n",
       "      <td>...</td>\n",
       "      <td>...</td>\n",
       "    </tr>\n",
       "    <tr>\n",
       "      <th>60</th>\n",
       "      <td>Ukraine</td>\n",
       "      <td>4.99</td>\n",
       "      <td>7.49</td>\n",
       "      <td>9.99</td>\n",
       "      <td>EUR</td>\n",
       "    </tr>\n",
       "    <tr>\n",
       "      <th>61</th>\n",
       "      <td>United Kingdom</td>\n",
       "      <td>5.99</td>\n",
       "      <td>9.99</td>\n",
       "      <td>13.99</td>\n",
       "      <td>GBP</td>\n",
       "    </tr>\n",
       "    <tr>\n",
       "      <th>62</th>\n",
       "      <td>United States</td>\n",
       "      <td>9.99</td>\n",
       "      <td>15.49</td>\n",
       "      <td>19.99</td>\n",
       "      <td>USD</td>\n",
       "    </tr>\n",
       "    <tr>\n",
       "      <th>63</th>\n",
       "      <td>Uruguay</td>\n",
       "      <td>8.99</td>\n",
       "      <td>12.99</td>\n",
       "      <td>15.99</td>\n",
       "      <td>USD</td>\n",
       "    </tr>\n",
       "    <tr>\n",
       "      <th>64</th>\n",
       "      <td>Venezuela</td>\n",
       "      <td>7.99</td>\n",
       "      <td>10.99</td>\n",
       "      <td>13.99</td>\n",
       "      <td>USD</td>\n",
       "    </tr>\n",
       "  </tbody>\n",
       "</table>\n",
       "<p>65 rows × 5 columns</p>\n",
       "</div>"
      ],
      "text/plain": [
       "           Country   Basic  Standard  Premium currency\n",
       "0        Argentina  379.00    639.00   939.00      ARS\n",
       "1        Australia   10.99     16.99    22.99      AUS\n",
       "2          Austria    7.99     12.99    17.99      EUR\n",
       "3          Belgium    8.99     13.49    17.99      EUR\n",
       "4          Bolivia    7.99     10.99    13.99      USD\n",
       "..             ...     ...       ...      ...      ...\n",
       "60         Ukraine    4.99      7.49     9.99      EUR\n",
       "61  United Kingdom    5.99      9.99    13.99      GBP\n",
       "62   United States    9.99     15.49    19.99      USD\n",
       "63         Uruguay    8.99     12.99    15.99      USD\n",
       "64       Venezuela    7.99     10.99    13.99      USD\n",
       "\n",
       "[65 rows x 5 columns]"
      ]
     },
     "execution_count": 6,
     "metadata": {},
     "output_type": "execute_result"
    }
   ],
   "source": [
    "df"
   ]
  },
  {
   "cell_type": "markdown",
   "id": "1c0990f2",
   "metadata": {},
   "source": [
    "# 1) Найти в открытых источниках или составить самостоятельно таблицу среднего дохода (PPP) в зависимости от страны"
   ]
  },
  {
   "cell_type": "code",
   "execution_count": 7,
   "id": "08a3595f",
   "metadata": {},
   "outputs": [],
   "source": [
    "#Подгрузим данные о PPP\n",
    "ppp = pd.read_csv(\n",
    "    'https://docs.google.com/spreadsheets/d/1ullXLeTvmXFEZMn3inDO3ED_XjKz7uBUe4Aze0SfeoU/export?gid=0&format=csv')\n",
    "#Выкидываем левые данные\n",
    "ppp=ppp.drop(index=[0,1]);\n",
    "ppp=ppp.drop(columns=['Unnamed: 1', 'Unnamed: 4', 'Unnamed: 5', 'Unnamed: 6', 'Unnamed: 7', 'Unnamed: 8'])\n",
    "#Называем нормально столбцы\n",
    "ppp=ppp.rename(columns={'Unnamed: 0': 'Country', 'Unnamed: 2': 'Region', 'Unnamed: 3': 'PPP'})"
   ]
  },
  {
   "cell_type": "code",
   "execution_count": 8,
   "id": "756f9a8e",
   "metadata": {},
   "outputs": [
    {
     "data": {
      "text/html": [
       "<div>\n",
       "<style scoped>\n",
       "    .dataframe tbody tr th:only-of-type {\n",
       "        vertical-align: middle;\n",
       "    }\n",
       "\n",
       "    .dataframe tbody tr th {\n",
       "        vertical-align: top;\n",
       "    }\n",
       "\n",
       "    .dataframe thead th {\n",
       "        text-align: right;\n",
       "    }\n",
       "</style>\n",
       "<table border=\"1\" class=\"dataframe\">\n",
       "  <thead>\n",
       "    <tr style=\"text-align: right;\">\n",
       "      <th></th>\n",
       "      <th>Country</th>\n",
       "      <th>Region</th>\n",
       "      <th>PPP</th>\n",
       "    </tr>\n",
       "  </thead>\n",
       "  <tbody>\n",
       "    <tr>\n",
       "      <th>2</th>\n",
       "      <td>Liechtenstein</td>\n",
       "      <td>Europe</td>\n",
       "      <td>NaN</td>\n",
       "    </tr>\n",
       "    <tr>\n",
       "      <th>3</th>\n",
       "      <td>Luxembourg</td>\n",
       "      <td>Europe</td>\n",
       "      <td>122.74</td>\n",
       "    </tr>\n",
       "    <tr>\n",
       "      <th>4</th>\n",
       "      <td>Monaco</td>\n",
       "      <td>Europe</td>\n",
       "      <td>NaN</td>\n",
       "    </tr>\n",
       "    <tr>\n",
       "      <th>5</th>\n",
       "      <td>Singapore</td>\n",
       "      <td>Asia</td>\n",
       "      <td>102.742</td>\n",
       "    </tr>\n",
       "    <tr>\n",
       "      <th>6</th>\n",
       "      <td>Ireland</td>\n",
       "      <td>Europe</td>\n",
       "      <td>99.239</td>\n",
       "    </tr>\n",
       "    <tr>\n",
       "      <th>...</th>\n",
       "      <td>...</td>\n",
       "      <td>...</td>\n",
       "      <td>...</td>\n",
       "    </tr>\n",
       "    <tr>\n",
       "      <th>225</th>\n",
       "      <td>Malawi</td>\n",
       "      <td>Africa</td>\n",
       "      <td>1.005</td>\n",
       "    </tr>\n",
       "    <tr>\n",
       "      <th>226</th>\n",
       "      <td>DR Congo</td>\n",
       "      <td>Africa</td>\n",
       "      <td>1.132</td>\n",
       "    </tr>\n",
       "    <tr>\n",
       "      <th>227</th>\n",
       "      <td>Central African Republic</td>\n",
       "      <td>Africa</td>\n",
       "      <td>1.013</td>\n",
       "    </tr>\n",
       "    <tr>\n",
       "      <th>228</th>\n",
       "      <td>Somalia</td>\n",
       "      <td>Africa</td>\n",
       "      <td>941</td>\n",
       "    </tr>\n",
       "    <tr>\n",
       "      <th>229</th>\n",
       "      <td>Burundi</td>\n",
       "      <td>Africa</td>\n",
       "      <td>772</td>\n",
       "    </tr>\n",
       "  </tbody>\n",
       "</table>\n",
       "<p>228 rows × 3 columns</p>\n",
       "</div>"
      ],
      "text/plain": [
       "                      Country  Region      PPP\n",
       "2               Liechtenstein  Europe      NaN\n",
       "3                  Luxembourg  Europe   122.74\n",
       "4                      Monaco  Europe      NaN\n",
       "5                   Singapore    Asia  102.742\n",
       "6                     Ireland  Europe   99.239\n",
       "..                        ...     ...      ...\n",
       "225                    Malawi  Africa    1.005\n",
       "226                  DR Congo  Africa    1.132\n",
       "227  Central African Republic  Africa    1.013\n",
       "228                   Somalia  Africa      941\n",
       "229                   Burundi  Africa      772\n",
       "\n",
       "[228 rows x 3 columns]"
      ]
     },
     "execution_count": 8,
     "metadata": {},
     "output_type": "execute_result"
    }
   ],
   "source": [
    "ppp"
   ]
  },
  {
   "cell_type": "code",
   "execution_count": 9,
   "id": "491f068f",
   "metadata": {},
   "outputs": [],
   "source": [
    "#Преобразуем к числовому формату РРР\n",
    "ppp['PPP'] = ppp['PPP'].astype('float64')"
   ]
  },
  {
   "cell_type": "code",
   "execution_count": 10,
   "id": "de0064f8",
   "metadata": {},
   "outputs": [
    {
     "data": {
      "text/plain": [
       "Country     object\n",
       "Region      object\n",
       "PPP        float64\n",
       "dtype: object"
      ]
     },
     "execution_count": 10,
     "metadata": {},
     "output_type": "execute_result"
    }
   ],
   "source": [
    "ppp.dtypes"
   ]
  },
  {
   "cell_type": "code",
   "execution_count": 11,
   "id": "c0cc8e84",
   "metadata": {},
   "outputs": [],
   "source": [
    "#Делаем единый датафрэйм со всеми нужными нам данными\n",
    "full_date=pd.merge(df, ppp)"
   ]
  },
  {
   "cell_type": "code",
   "execution_count": 12,
   "id": "c9d9bf56",
   "metadata": {
    "scrolled": true
   },
   "outputs": [
    {
     "data": {
      "text/html": [
       "<div>\n",
       "<style scoped>\n",
       "    .dataframe tbody tr th:only-of-type {\n",
       "        vertical-align: middle;\n",
       "    }\n",
       "\n",
       "    .dataframe tbody tr th {\n",
       "        vertical-align: top;\n",
       "    }\n",
       "\n",
       "    .dataframe thead th {\n",
       "        text-align: right;\n",
       "    }\n",
       "</style>\n",
       "<table border=\"1\" class=\"dataframe\">\n",
       "  <thead>\n",
       "    <tr style=\"text-align: right;\">\n",
       "      <th></th>\n",
       "      <th>Country</th>\n",
       "      <th>Basic</th>\n",
       "      <th>Standard</th>\n",
       "      <th>Premium</th>\n",
       "      <th>currency</th>\n",
       "      <th>Region</th>\n",
       "      <th>PPP</th>\n",
       "    </tr>\n",
       "  </thead>\n",
       "  <tbody>\n",
       "    <tr>\n",
       "      <th>0</th>\n",
       "      <td>Argentina</td>\n",
       "      <td>379.00</td>\n",
       "      <td>639.00</td>\n",
       "      <td>939.00</td>\n",
       "      <td>ARS</td>\n",
       "      <td>Americas</td>\n",
       "      <td>22.141</td>\n",
       "    </tr>\n",
       "    <tr>\n",
       "      <th>1</th>\n",
       "      <td>Australia</td>\n",
       "      <td>10.99</td>\n",
       "      <td>16.99</td>\n",
       "      <td>22.99</td>\n",
       "      <td>AUS</td>\n",
       "      <td>Oceania</td>\n",
       "      <td>54.891</td>\n",
       "    </tr>\n",
       "    <tr>\n",
       "      <th>2</th>\n",
       "      <td>Austria</td>\n",
       "      <td>7.99</td>\n",
       "      <td>12.99</td>\n",
       "      <td>17.99</td>\n",
       "      <td>EUR</td>\n",
       "      <td>Europe</td>\n",
       "      <td>57.891</td>\n",
       "    </tr>\n",
       "    <tr>\n",
       "      <th>3</th>\n",
       "      <td>Belgium</td>\n",
       "      <td>8.99</td>\n",
       "      <td>13.49</td>\n",
       "      <td>17.99</td>\n",
       "      <td>EUR</td>\n",
       "      <td>Europe</td>\n",
       "      <td>53.973</td>\n",
       "    </tr>\n",
       "    <tr>\n",
       "      <th>4</th>\n",
       "      <td>Bolivia</td>\n",
       "      <td>7.99</td>\n",
       "      <td>10.99</td>\n",
       "      <td>13.99</td>\n",
       "      <td>USD</td>\n",
       "      <td>Americas</td>\n",
       "      <td>8.832</td>\n",
       "    </tr>\n",
       "    <tr>\n",
       "      <th>...</th>\n",
       "      <td>...</td>\n",
       "      <td>...</td>\n",
       "      <td>...</td>\n",
       "      <td>...</td>\n",
       "      <td>...</td>\n",
       "      <td>...</td>\n",
       "      <td>...</td>\n",
       "    </tr>\n",
       "    <tr>\n",
       "      <th>59</th>\n",
       "      <td>Ukraine</td>\n",
       "      <td>4.99</td>\n",
       "      <td>7.49</td>\n",
       "      <td>9.99</td>\n",
       "      <td>EUR</td>\n",
       "      <td>Europe</td>\n",
       "      <td>13.943</td>\n",
       "    </tr>\n",
       "    <tr>\n",
       "      <th>60</th>\n",
       "      <td>United Kingdom</td>\n",
       "      <td>5.99</td>\n",
       "      <td>9.99</td>\n",
       "      <td>13.99</td>\n",
       "      <td>GBP</td>\n",
       "      <td>Europe</td>\n",
       "      <td>47.089</td>\n",
       "    </tr>\n",
       "    <tr>\n",
       "      <th>61</th>\n",
       "      <td>United States</td>\n",
       "      <td>9.99</td>\n",
       "      <td>15.49</td>\n",
       "      <td>19.99</td>\n",
       "      <td>USD</td>\n",
       "      <td>Americas</td>\n",
       "      <td>68.309</td>\n",
       "    </tr>\n",
       "    <tr>\n",
       "      <th>62</th>\n",
       "      <td>Uruguay</td>\n",
       "      <td>8.99</td>\n",
       "      <td>12.99</td>\n",
       "      <td>15.99</td>\n",
       "      <td>USD</td>\n",
       "      <td>Americas</td>\n",
       "      <td>23.474</td>\n",
       "    </tr>\n",
       "    <tr>\n",
       "      <th>63</th>\n",
       "      <td>Venezuela</td>\n",
       "      <td>7.99</td>\n",
       "      <td>10.99</td>\n",
       "      <td>13.99</td>\n",
       "      <td>USD</td>\n",
       "      <td>Americas</td>\n",
       "      <td>5.178</td>\n",
       "    </tr>\n",
       "  </tbody>\n",
       "</table>\n",
       "<p>64 rows × 7 columns</p>\n",
       "</div>"
      ],
      "text/plain": [
       "           Country   Basic  Standard  Premium currency    Region     PPP\n",
       "0        Argentina  379.00    639.00   939.00      ARS  Americas  22.141\n",
       "1        Australia   10.99     16.99    22.99      AUS   Oceania  54.891\n",
       "2          Austria    7.99     12.99    17.99      EUR    Europe  57.891\n",
       "3          Belgium    8.99     13.49    17.99      EUR    Europe  53.973\n",
       "4          Bolivia    7.99     10.99    13.99      USD  Americas   8.832\n",
       "..             ...     ...       ...      ...      ...       ...     ...\n",
       "59         Ukraine    4.99      7.49     9.99      EUR    Europe  13.943\n",
       "60  United Kingdom    5.99      9.99    13.99      GBP    Europe  47.089\n",
       "61   United States    9.99     15.49    19.99      USD  Americas  68.309\n",
       "62         Uruguay    8.99     12.99    15.99      USD  Americas  23.474\n",
       "63       Venezuela    7.99     10.99    13.99      USD  Americas   5.178\n",
       "\n",
       "[64 rows x 7 columns]"
      ]
     },
     "execution_count": 12,
     "metadata": {},
     "output_type": "execute_result"
    }
   ],
   "source": [
    "full_date"
   ]
  },
  {
   "cell_type": "markdown",
   "id": "9fcf0209",
   "metadata": {},
   "source": [
    "# 2) Построить график корреляции между средним доходом (PPP) и ценой подписки"
   ]
  },
  {
   "cell_type": "code",
   "execution_count": 13,
   "id": "1ca17b8b",
   "metadata": {
    "scrolled": false
   },
   "outputs": [
    {
     "data": {
      "image/png": "[encoded data removed]",
      "text/plain": [
       "<Figure size 720x360 with 1 Axes>"
      ]
     },
     "metadata": {
      "needs_background": "light"
     },
     "output_type": "display_data"
    }
   ],
   "source": [
    "plt.figure(figsize=(10,5))\n",
    "splot=sns.scatterplot(x=\"PPP\", y=\"Standard\", data=full_date);\n",
    "splot=sns.scatterplot(x=\"PPP\", y=\"Basic\", data=full_date);\n",
    "splot=sns.scatterplot(x=\"PPP\", y=\"Premium\", data=full_date);\n",
    "splot.set(yscale=\"log\", xlabel='PPP', ylabel='subscription cost');\n",
    "splot.legend([\"Standard\", \"Basic\", \"Premium\"]);"
   ]
  },
  {
   "cell_type": "code",
   "execution_count": 14,
   "id": "46ea35c3",
   "metadata": {},
   "outputs": [],
   "source": [
    "#Наблюдается небольшое увеличение цены подписки в с ростом РРР, но в основном облако данных слишком рассеяно, \n",
    "#по изображению трудно сказать, есть ли связь на самом деле"
   ]
  },
  {
   "cell_type": "markdown",
   "id": "1d828f3c",
   "metadata": {},
   "source": [
    "## 1) средняя цена подписки, (базовой, стандартной, премиум) в зависимости от валюты страны. "
   ]
  },
  {
   "cell_type": "code",
   "execution_count": 15,
   "id": "6d1425f7",
   "metadata": {},
   "outputs": [],
   "source": [
    "mean_by_currency = full_date.groupby(['currency']).mean().drop(columns=[\"PPP\"]);"
   ]
  },
  {
   "cell_type": "code",
   "execution_count": 16,
   "id": "5bdf9a93",
   "metadata": {},
   "outputs": [
    {
     "data": {
      "text/html": [
       "<div>\n",
       "<style scoped>\n",
       "    .dataframe tbody tr th:only-of-type {\n",
       "        vertical-align: middle;\n",
       "    }\n",
       "\n",
       "    .dataframe tbody tr th {\n",
       "        vertical-align: top;\n",
       "    }\n",
       "\n",
       "    .dataframe thead th {\n",
       "        text-align: right;\n",
       "    }\n",
       "</style>\n",
       "<table border=\"1\" class=\"dataframe\">\n",
       "  <thead>\n",
       "    <tr style=\"text-align: right;\">\n",
       "      <th></th>\n",
       "      <th>Basic</th>\n",
       "      <th>Standard</th>\n",
       "      <th>Premium</th>\n",
       "    </tr>\n",
       "    <tr>\n",
       "      <th>currency</th>\n",
       "      <th></th>\n",
       "      <th></th>\n",
       "      <th></th>\n",
       "    </tr>\n",
       "  </thead>\n",
       "  <tbody>\n",
       "    <tr>\n",
       "      <th>ARS</th>\n",
       "      <td>379.000000</td>\n",
       "      <td>639.0000</td>\n",
       "      <td>939.000000</td>\n",
       "    </tr>\n",
       "    <tr>\n",
       "      <th>AUS</th>\n",
       "      <td>10.990000</td>\n",
       "      <td>16.9900</td>\n",
       "      <td>22.990000</td>\n",
       "    </tr>\n",
       "    <tr>\n",
       "      <th>BRL</th>\n",
       "      <td>25.900000</td>\n",
       "      <td>39.9000</td>\n",
       "      <td>55.900000</td>\n",
       "    </tr>\n",
       "    <tr>\n",
       "      <th>CAD</th>\n",
       "      <td>9.990000</td>\n",
       "      <td>16.4900</td>\n",
       "      <td>20.990000</td>\n",
       "    </tr>\n",
       "    <tr>\n",
       "      <th>CHF</th>\n",
       "      <td>11.900000</td>\n",
       "      <td>18.9000</td>\n",
       "      <td>24.900000</td>\n",
       "    </tr>\n",
       "    <tr>\n",
       "      <th>CLP</th>\n",
       "      <td>5940.000000</td>\n",
       "      <td>8320.0000</td>\n",
       "      <td>10700.000000</td>\n",
       "    </tr>\n",
       "    <tr>\n",
       "      <th>COP</th>\n",
       "      <td>16900.000000</td>\n",
       "      <td>26900.0000</td>\n",
       "      <td>38900.000000</td>\n",
       "    </tr>\n",
       "    <tr>\n",
       "      <th>CZK</th>\n",
       "      <td>199.000000</td>\n",
       "      <td>259.0000</td>\n",
       "      <td>319.000000</td>\n",
       "    </tr>\n",
       "    <tr>\n",
       "      <th>DKK</th>\n",
       "      <td>79.000000</td>\n",
       "      <td>99.0000</td>\n",
       "      <td>129.000000</td>\n",
       "    </tr>\n",
       "    <tr>\n",
       "      <th>EUR</th>\n",
       "      <td>7.948333</td>\n",
       "      <td>11.5525</td>\n",
       "      <td>15.156667</td>\n",
       "    </tr>\n",
       "    <tr>\n",
       "      <th>GBP</th>\n",
       "      <td>5.990000</td>\n",
       "      <td>9.9900</td>\n",
       "      <td>13.990000</td>\n",
       "    </tr>\n",
       "    <tr>\n",
       "      <th>HKD</th>\n",
       "      <td>63.000000</td>\n",
       "      <td>78.0000</td>\n",
       "      <td>93.000000</td>\n",
       "    </tr>\n",
       "    <tr>\n",
       "      <th>HUF</th>\n",
       "      <td>2490.000000</td>\n",
       "      <td>3490.0000</td>\n",
       "      <td>4490.000000</td>\n",
       "    </tr>\n",
       "    <tr>\n",
       "      <th>IDR</th>\n",
       "      <td>120000.000000</td>\n",
       "      <td>153000.0000</td>\n",
       "      <td>186000.000000</td>\n",
       "    </tr>\n",
       "    <tr>\n",
       "      <th>ILS</th>\n",
       "      <td>32.900000</td>\n",
       "      <td>54.9000</td>\n",
       "      <td>69.900000</td>\n",
       "    </tr>\n",
       "    <tr>\n",
       "      <th>INR</th>\n",
       "      <td>499.000000</td>\n",
       "      <td>649.0000</td>\n",
       "      <td>799.000000</td>\n",
       "    </tr>\n",
       "    <tr>\n",
       "      <th>JPY</th>\n",
       "      <td>990.000000</td>\n",
       "      <td>1490.0000</td>\n",
       "      <td>1980.000000</td>\n",
       "    </tr>\n",
       "    <tr>\n",
       "      <th>KRW</th>\n",
       "      <td>9500.000000</td>\n",
       "      <td>13500.0000</td>\n",
       "      <td>1700.000000</td>\n",
       "    </tr>\n",
       "    <tr>\n",
       "      <th>MXN</th>\n",
       "      <td>139.000000</td>\n",
       "      <td>219.0000</td>\n",
       "      <td>299.000000</td>\n",
       "    </tr>\n",
       "    <tr>\n",
       "      <th>MYR</th>\n",
       "      <td>35.000000</td>\n",
       "      <td>45.0000</td>\n",
       "      <td>55.000000</td>\n",
       "    </tr>\n",
       "    <tr>\n",
       "      <th>NOK</th>\n",
       "      <td>89.000000</td>\n",
       "      <td>109.0000</td>\n",
       "      <td>159.000000</td>\n",
       "    </tr>\n",
       "    <tr>\n",
       "      <th>NZD</th>\n",
       "      <td>12.990000</td>\n",
       "      <td>18.4900</td>\n",
       "      <td>24.990000</td>\n",
       "    </tr>\n",
       "    <tr>\n",
       "      <th>PEN</th>\n",
       "      <td>24.900000</td>\n",
       "      <td>34.9000</td>\n",
       "      <td>44.900000</td>\n",
       "    </tr>\n",
       "    <tr>\n",
       "      <th>PHP</th>\n",
       "      <td>369.000000</td>\n",
       "      <td>459.0000</td>\n",
       "      <td>549.000000</td>\n",
       "    </tr>\n",
       "    <tr>\n",
       "      <th>PLN</th>\n",
       "      <td>29.000000</td>\n",
       "      <td>43.0000</td>\n",
       "      <td>60.000000</td>\n",
       "    </tr>\n",
       "    <tr>\n",
       "      <th>RUB</th>\n",
       "      <td>599.000000</td>\n",
       "      <td>799.0000</td>\n",
       "      <td>999.000000</td>\n",
       "    </tr>\n",
       "    <tr>\n",
       "      <th>SEK</th>\n",
       "      <td>99.000000</td>\n",
       "      <td>129.0000</td>\n",
       "      <td>179.000000</td>\n",
       "    </tr>\n",
       "    <tr>\n",
       "      <th>SGD</th>\n",
       "      <td>12.980000</td>\n",
       "      <td>17.4800</td>\n",
       "      <td>21.980000</td>\n",
       "    </tr>\n",
       "    <tr>\n",
       "      <th>THB</th>\n",
       "      <td>279.000000</td>\n",
       "      <td>349.0000</td>\n",
       "      <td>419.000000</td>\n",
       "    </tr>\n",
       "    <tr>\n",
       "      <th>TRY</th>\n",
       "      <td>26.990000</td>\n",
       "      <td>40.9900</td>\n",
       "      <td>54.990000</td>\n",
       "    </tr>\n",
       "    <tr>\n",
       "      <th>TWD</th>\n",
       "      <td>270.000000</td>\n",
       "      <td>330.0000</td>\n",
       "      <td>390.000000</td>\n",
       "    </tr>\n",
       "    <tr>\n",
       "      <th>USD</th>\n",
       "      <td>8.467778</td>\n",
       "      <td>11.9900</td>\n",
       "      <td>15.178889</td>\n",
       "    </tr>\n",
       "    <tr>\n",
       "      <th>ZAR</th>\n",
       "      <td>99.000000</td>\n",
       "      <td>159.0000</td>\n",
       "      <td>199.000000</td>\n",
       "    </tr>\n",
       "  </tbody>\n",
       "</table>\n",
       "</div>"
      ],
      "text/plain": [
       "                  Basic     Standard        Premium\n",
       "currency                                           \n",
       "ARS          379.000000     639.0000     939.000000\n",
       "AUS           10.990000      16.9900      22.990000\n",
       "BRL           25.900000      39.9000      55.900000\n",
       "CAD            9.990000      16.4900      20.990000\n",
       "CHF           11.900000      18.9000      24.900000\n",
       "CLP         5940.000000    8320.0000   10700.000000\n",
       "COP        16900.000000   26900.0000   38900.000000\n",
       "CZK          199.000000     259.0000     319.000000\n",
       "DKK           79.000000      99.0000     129.000000\n",
       "EUR            7.948333      11.5525      15.156667\n",
       "GBP            5.990000       9.9900      13.990000\n",
       "HKD           63.000000      78.0000      93.000000\n",
       "HUF         2490.000000    3490.0000    4490.000000\n",
       "IDR       120000.000000  153000.0000  186000.000000\n",
       "ILS           32.900000      54.9000      69.900000\n",
       "INR          499.000000     649.0000     799.000000\n",
       "JPY          990.000000    1490.0000    1980.000000\n",
       "KRW         9500.000000   13500.0000    1700.000000\n",
       "MXN          139.000000     219.0000     299.000000\n",
       "MYR           35.000000      45.0000      55.000000\n",
       "NOK           89.000000     109.0000     159.000000\n",
       "NZD           12.990000      18.4900      24.990000\n",
       "PEN           24.900000      34.9000      44.900000\n",
       "PHP          369.000000     459.0000     549.000000\n",
       "PLN           29.000000      43.0000      60.000000\n",
       "RUB          599.000000     799.0000     999.000000\n",
       "SEK           99.000000     129.0000     179.000000\n",
       "SGD           12.980000      17.4800      21.980000\n",
       "THB          279.000000     349.0000     419.000000\n",
       "TRY           26.990000      40.9900      54.990000\n",
       "TWD          270.000000     330.0000     390.000000\n",
       "USD            8.467778      11.9900      15.178889\n",
       "ZAR           99.000000     159.0000     199.000000"
      ]
     },
     "execution_count": 16,
     "metadata": {},
     "output_type": "execute_result"
    }
   ],
   "source": [
    "mean_by_currency"
   ]
  },
  {
   "cell_type": "code",
   "execution_count": 17,
   "id": "c45678b3",
   "metadata": {},
   "outputs": [
    {
     "data": {
      "image/png": "[encoded data removed]",
      "text/plain": [
       "<Figure size 1800x360 with 2 Axes>"
      ]
     },
     "metadata": {},
     "output_type": "display_data"
    }
   ],
   "source": [
    "sns.set(style='white');\n",
    "plt.figure(figsize=(25, 5));\n",
    "sns.heatmap(mean_by_currency.T);\n",
    "#Видим, что самая дорогая подписка в старанах, где обращается Индонезийская рупия "
   ]
  },
  {
   "cell_type": "code",
   "execution_count": 18,
   "id": "e83b0edb",
   "metadata": {},
   "outputs": [
    {
     "data": {
      "image/png": "[encoded data removed]",
      "text/plain": [
       "<Figure size 1800x360 with 2 Axes>"
      ]
     },
     "metadata": {},
     "output_type": "display_data"
    }
   ],
   "source": [
    "sns.set(style='white');\n",
    "plt.figure(figsize=(25, 5));\n",
    "sns.heatmap(mean_by_currency.drop(index=\"IDR\").T);\n",
    "#Видим, что вторая по цене подписка в старанах, где обращается Колумбийское песо\n",
    "#А ещё можем заметить, что в странах, где общается Южнокорейская вона, premimum подписка стоит дешевле остальных видов подписок "
   ]
  },
  {
   "cell_type": "code",
   "execution_count": 19,
   "id": "e7e8cf2c",
   "metadata": {},
   "outputs": [
    {
     "data": {
      "image/png": "[encoded data removed]",
      "text/plain": [
       "<Figure size 1080x576 with 1 Axes>"
      ]
     },
     "metadata": {},
     "output_type": "display_data"
    }
   ],
   "source": [
    "plt.figure(figsize=(15,8))\n",
    "splot=sns.scatterplot(data=mean_by_currency);\n",
    "splot.set(yscale=\"log\");\n",
    "# Видим, что в странах с Фунтами стерлингов самая дешёвая подписка"
   ]
  },
  {
   "cell_type": "markdown",
   "id": "8fe1499d",
   "metadata": {},
   "source": [
    "## 2) Какая средняя цена подписки, (базовой, стандартной, премиум) в зависимости от континента"
   ]
  },
  {
   "cell_type": "code",
   "execution_count": 20,
   "id": "3addd701",
   "metadata": {},
   "outputs": [],
   "source": [
    "mean_by_Region = full_date.groupby(['Region']).mean().drop(columns=[\"PPP\"]);"
   ]
  },
  {
   "cell_type": "code",
   "execution_count": 21,
   "id": "7ce97dd0",
   "metadata": {},
   "outputs": [
    {
     "data": {
      "text/html": [
       "<div>\n",
       "<style scoped>\n",
       "    .dataframe tbody tr th:only-of-type {\n",
       "        vertical-align: middle;\n",
       "    }\n",
       "\n",
       "    .dataframe tbody tr th {\n",
       "        vertical-align: top;\n",
       "    }\n",
       "\n",
       "    .dataframe thead th {\n",
       "        text-align: right;\n",
       "    }\n",
       "</style>\n",
       "<table border=\"1\" class=\"dataframe\">\n",
       "  <thead>\n",
       "    <tr style=\"text-align: right;\">\n",
       "      <th></th>\n",
       "      <th>Basic</th>\n",
       "      <th>Standard</th>\n",
       "      <th>Premium</th>\n",
       "    </tr>\n",
       "    <tr>\n",
       "      <th>Region</th>\n",
       "      <th></th>\n",
       "      <th></th>\n",
       "      <th></th>\n",
       "    </tr>\n",
       "  </thead>\n",
       "  <tbody>\n",
       "    <tr>\n",
       "      <th>Africa</th>\n",
       "      <td>99.000000</td>\n",
       "      <td>159.000000</td>\n",
       "      <td>199.000000</td>\n",
       "    </tr>\n",
       "    <tr>\n",
       "      <th>Americas</th>\n",
       "      <td>1468.437500</td>\n",
       "      <td>2267.325000</td>\n",
       "      <td>3193.525000</td>\n",
       "    </tr>\n",
       "    <tr>\n",
       "      <th>Asia</th>\n",
       "      <td>11006.489167</td>\n",
       "      <td>14167.780833</td>\n",
       "      <td>16010.989167</td>\n",
       "    </tr>\n",
       "    <tr>\n",
       "      <th>Europe</th>\n",
       "      <td>114.928788</td>\n",
       "      <td>158.610606</td>\n",
       "      <td>204.171212</td>\n",
       "    </tr>\n",
       "    <tr>\n",
       "      <th>Oceania</th>\n",
       "      <td>11.990000</td>\n",
       "      <td>17.740000</td>\n",
       "      <td>23.990000</td>\n",
       "    </tr>\n",
       "  </tbody>\n",
       "</table>\n",
       "</div>"
      ],
      "text/plain": [
       "                 Basic      Standard       Premium\n",
       "Region                                            \n",
       "Africa       99.000000    159.000000    199.000000\n",
       "Americas   1468.437500   2267.325000   3193.525000\n",
       "Asia      11006.489167  14167.780833  16010.989167\n",
       "Europe      114.928788    158.610606    204.171212\n",
       "Oceania      11.990000     17.740000     23.990000"
      ]
     },
     "execution_count": 21,
     "metadata": {},
     "output_type": "execute_result"
    }
   ],
   "source": [
    "mean_by_Region"
   ]
  },
  {
   "cell_type": "code",
   "execution_count": 22,
   "id": "a81b7c06",
   "metadata": {},
   "outputs": [
    {
     "data": {
      "image/png": "[encoded data removed]",
      "text/plain": [
       "<Figure size 1080x360 with 2 Axes>"
      ]
     },
     "metadata": {},
     "output_type": "display_data"
    }
   ],
   "source": [
    "sns.set(style='white');\n",
    "plt.figure(figsize=(15, 5));\n",
    "sns.heatmap(mean_by_Region.T);"
   ]
  },
  {
   "cell_type": "code",
   "execution_count": 23,
   "id": "a609aaf3",
   "metadata": {},
   "outputs": [],
   "source": [
    "#Видим, что самая дорогая подписка в Азии (что согласуется с предыдущими результатами об Индонезийской рупи)\n",
    "#На втором месте по цене находится Америка\n",
    "#В Океании самые дешевые подписки"
   ]
  },
  {
   "cell_type": "markdown",
   "id": "85859c6c",
   "metadata": {},
   "source": [
    "## 3) Сколько стоит подписка относительно среднего дохода (базовая, стандартная, премиум) в Чехии?"
   ]
  },
  {
   "cell_type": "code",
   "execution_count": 24,
   "id": "01a92158",
   "metadata": {},
   "outputs": [
    {
     "data": {
      "text/plain": [
       "{0: 'Argentina',\n",
       " 1: 'Australia',\n",
       " 2: 'Austria',\n",
       " 3: 'Belgium',\n",
       " 4: 'Bolivia',\n",
       " 5: 'Brazil',\n",
       " 6: 'Bulgaria',\n",
       " 7: 'Canada',\n",
       " 8: 'Chile',\n",
       " 9: 'Colombia',\n",
       " 10: 'Costa Rica',\n",
       " 11: 'Croatia',\n",
       " 12: 'Czech Republic',\n",
       " 13: 'Denmark',\n",
       " 14: 'Ecuador',\n",
       " 15: 'Estonia',\n",
       " 16: 'Finland',\n",
       " 17: 'France',\n",
       " 18: 'Germany',\n",
       " 19: 'Gibraltar',\n",
       " 20: 'Greece',\n",
       " 21: 'Guatemala',\n",
       " 22: 'Honduras',\n",
       " 23: 'Hong Kong',\n",
       " 24: 'Hungary',\n",
       " 25: 'Iceland',\n",
       " 26: 'India',\n",
       " 27: 'Indonesia',\n",
       " 28: 'Ireland',\n",
       " 29: 'Israel',\n",
       " 30: 'Italy',\n",
       " 31: 'Japan',\n",
       " 32: 'Latvia',\n",
       " 33: 'Lithuania',\n",
       " 34: 'Malaysia',\n",
       " 35: 'Mexico',\n",
       " 36: 'Moldova',\n",
       " 37: 'Monaco',\n",
       " 38: 'Netherlands',\n",
       " 39: 'New Zealand',\n",
       " 40: 'Norway',\n",
       " 41: 'Paraguay',\n",
       " 42: 'Peru',\n",
       " 43: 'Philippines',\n",
       " 44: 'Poland',\n",
       " 45: 'Portugal',\n",
       " 46: 'Romania',\n",
       " 47: 'Russia',\n",
       " 48: 'San Marino',\n",
       " 49: 'Singapore',\n",
       " 50: 'Slovakia',\n",
       " 51: 'South Africa',\n",
       " 52: 'South Korea',\n",
       " 53: 'Spain',\n",
       " 54: 'Sweden',\n",
       " 55: 'Switzerland',\n",
       " 56: 'Taiwan',\n",
       " 57: 'Thailand',\n",
       " 58: 'Turkey',\n",
       " 59: 'Ukraine',\n",
       " 60: 'United Kingdom',\n",
       " 61: 'United States',\n",
       " 62: 'Uruguay',\n",
       " 63: 'Venezuela'}"
      ]
     },
     "execution_count": 24,
     "metadata": {},
     "output_type": "execute_result"
    }
   ],
   "source": [
    "#Пытаемся понять, как тут пишется Чехия\n",
    "dict(full_date['Country'])"
   ]
  },
  {
   "cell_type": "code",
   "execution_count": 25,
   "id": "b62b18fc",
   "metadata": {},
   "outputs": [],
   "source": [
    "full_date_per_PPP=pd.DataFrame(columns = ['Country','Basic','Standard','Premium'])"
   ]
  },
  {
   "cell_type": "code",
   "execution_count": 26,
   "id": "b1903067",
   "metadata": {},
   "outputs": [],
   "source": [
    "def func1(x):\n",
    "    return x[1] / x[6]\n",
    "def func2(x):\n",
    "    return x[2] / x[6]\n",
    "def func3(x):\n",
    "    return x[3] / x[6]\n",
    "\n",
    "full_date_per_PPP['Basic']=full_date.apply(func1, axis=1)\n",
    "full_date_per_PPP['Standard']=full_date.apply(func2, axis=1)\n",
    "full_date_per_PPP['Premium']=full_date.apply(func3, axis=1)\n",
    "full_date_per_PPP['Country']=full_date['Country']"
   ]
  },
  {
   "cell_type": "code",
   "execution_count": 27,
   "id": "ff387a53",
   "metadata": {},
   "outputs": [
    {
     "data": {
      "text/html": [
       "<div>\n",
       "<style scoped>\n",
       "    .dataframe tbody tr th:only-of-type {\n",
       "        vertical-align: middle;\n",
       "    }\n",
       "\n",
       "    .dataframe tbody tr th {\n",
       "        vertical-align: top;\n",
       "    }\n",
       "\n",
       "    .dataframe thead th {\n",
       "        text-align: right;\n",
       "    }\n",
       "</style>\n",
       "<table border=\"1\" class=\"dataframe\">\n",
       "  <thead>\n",
       "    <tr style=\"text-align: right;\">\n",
       "      <th></th>\n",
       "      <th>Country</th>\n",
       "      <th>Basic</th>\n",
       "      <th>Standard</th>\n",
       "      <th>Premium</th>\n",
       "    </tr>\n",
       "  </thead>\n",
       "  <tbody>\n",
       "    <tr>\n",
       "      <th>12</th>\n",
       "      <td>Czech Republic</td>\n",
       "      <td>4.632647</td>\n",
       "      <td>6.029425</td>\n",
       "      <td>7.426204</td>\n",
       "    </tr>\n",
       "  </tbody>\n",
       "</table>\n",
       "</div>"
      ],
      "text/plain": [
       "           Country     Basic  Standard   Premium\n",
       "12  Czech Republic  4.632647  6.029425  7.426204"
      ]
     },
     "execution_count": 27,
     "metadata": {},
     "output_type": "execute_result"
    }
   ],
   "source": [
    "full_date_per_PPP[full_date_per_PPP['Country']=='Czech Republic']"
   ]
  },
  {
   "cell_type": "code",
   "execution_count": 28,
   "id": "5398d98f",
   "metadata": {},
   "outputs": [],
   "source": [
    "#Базовая подписка в Чехии стоит как 5 средних доходов, стандартная как 6, а премиальная как 7 средних доходов."
   ]
  },
  {
   "cell_type": "markdown",
   "id": "52670e76",
   "metadata": {},
   "source": [
    "## 4) Какие топ-5 стран имеют самую большую доступную коллекцию сериалов?"
   ]
  },
  {
   "cell_type": "code",
   "execution_count": 29,
   "id": "7ba1880e",
   "metadata": {},
   "outputs": [],
   "source": [
    "basic = pd.read_csv(\n",
    "    'https://docs.google.com/spreadsheets/d/1Tc_aiVXrCrMNQFFDMiJGQ3Gm35szGLps_FIsonCe38Q/export?gid=0&format=csv'\n",
    ")"
   ]
  },
  {
   "cell_type": "code",
   "execution_count": 30,
   "id": "7fd96626",
   "metadata": {},
   "outputs": [],
   "source": [
    "#берём нужный данные\n",
    "basic=basic[['Country','# of TV Shows']]\n",
    "basic=basic.drop(index=[65,66,67,68])"
   ]
  },
  {
   "cell_type": "code",
   "execution_count": 31,
   "id": "cc8b26b1",
   "metadata": {},
   "outputs": [
    {
     "data": {
      "text/html": [
       "<div>\n",
       "<style scoped>\n",
       "    .dataframe tbody tr th:only-of-type {\n",
       "        vertical-align: middle;\n",
       "    }\n",
       "\n",
       "    .dataframe tbody tr th {\n",
       "        vertical-align: top;\n",
       "    }\n",
       "\n",
       "    .dataframe thead th {\n",
       "        text-align: right;\n",
       "    }\n",
       "</style>\n",
       "<table border=\"1\" class=\"dataframe\">\n",
       "  <thead>\n",
       "    <tr style=\"text-align: right;\">\n",
       "      <th></th>\n",
       "      <th>Country</th>\n",
       "      <th># of TV Shows</th>\n",
       "    </tr>\n",
       "  </thead>\n",
       "  <tbody>\n",
       "    <tr>\n",
       "      <th>0</th>\n",
       "      <td>Turkey</td>\n",
       "      <td>2930.0</td>\n",
       "    </tr>\n",
       "    <tr>\n",
       "      <th>1</th>\n",
       "      <td>India</td>\n",
       "      <td>3718.0</td>\n",
       "    </tr>\n",
       "    <tr>\n",
       "      <th>2</th>\n",
       "      <td>Argentina</td>\n",
       "      <td>3154.0</td>\n",
       "    </tr>\n",
       "    <tr>\n",
       "      <th>3</th>\n",
       "      <td>Colombia</td>\n",
       "      <td>3156.0</td>\n",
       "    </tr>\n",
       "    <tr>\n",
       "      <th>4</th>\n",
       "      <td>Brazil</td>\n",
       "      <td>3162.0</td>\n",
       "    </tr>\n",
       "    <tr>\n",
       "      <th>...</th>\n",
       "      <td>...</td>\n",
       "      <td>...</td>\n",
       "    </tr>\n",
       "    <tr>\n",
       "      <th>60</th>\n",
       "      <td>Sweden</td>\n",
       "      <td>2973.0</td>\n",
       "    </tr>\n",
       "    <tr>\n",
       "      <th>61</th>\n",
       "      <td>Denmark</td>\n",
       "      <td>2978.0</td>\n",
       "    </tr>\n",
       "    <tr>\n",
       "      <th>62</th>\n",
       "      <td>San Marino</td>\n",
       "      <td>1937.0</td>\n",
       "    </tr>\n",
       "    <tr>\n",
       "      <th>63</th>\n",
       "      <td>Croatia</td>\n",
       "      <td>1675.0</td>\n",
       "    </tr>\n",
       "    <tr>\n",
       "      <th>64</th>\n",
       "      <td>Liechtenstein</td>\n",
       "      <td>1712.0</td>\n",
       "    </tr>\n",
       "  </tbody>\n",
       "</table>\n",
       "<p>65 rows × 2 columns</p>\n",
       "</div>"
      ],
      "text/plain": [
       "          Country  # of TV Shows\n",
       "0          Turkey         2930.0\n",
       "1           India         3718.0\n",
       "2       Argentina         3154.0\n",
       "3        Colombia         3156.0\n",
       "4          Brazil         3162.0\n",
       "..            ...            ...\n",
       "60         Sweden         2973.0\n",
       "61        Denmark         2978.0\n",
       "62     San Marino         1937.0\n",
       "63        Croatia         1675.0\n",
       "64  Liechtenstein         1712.0\n",
       "\n",
       "[65 rows x 2 columns]"
      ]
     },
     "execution_count": 31,
     "metadata": {},
     "output_type": "execute_result"
    }
   ],
   "source": [
    "basic"
   ]
  },
  {
   "cell_type": "code",
   "execution_count": 32,
   "id": "836aa5c3",
   "metadata": {},
   "outputs": [],
   "source": [
    "#нумеруем по порядку\n",
    "basic['rank']=basic['# of TV Shows'].rank(method='dense')"
   ]
  },
  {
   "cell_type": "code",
   "execution_count": 33,
   "id": "5e2a3a13",
   "metadata": {},
   "outputs": [
    {
     "data": {
      "text/html": [
       "<div>\n",
       "<style scoped>\n",
       "    .dataframe tbody tr th:only-of-type {\n",
       "        vertical-align: middle;\n",
       "    }\n",
       "\n",
       "    .dataframe tbody tr th {\n",
       "        vertical-align: top;\n",
       "    }\n",
       "\n",
       "    .dataframe thead th {\n",
       "        text-align: right;\n",
       "    }\n",
       "</style>\n",
       "<table border=\"1\" class=\"dataframe\">\n",
       "  <thead>\n",
       "    <tr style=\"text-align: right;\">\n",
       "      <th></th>\n",
       "      <th>Country</th>\n",
       "      <th># of TV Shows</th>\n",
       "      <th>rank</th>\n",
       "    </tr>\n",
       "  </thead>\n",
       "  <tbody>\n",
       "    <tr>\n",
       "      <th>7</th>\n",
       "      <td>Hungary</td>\n",
       "      <td>4802.0</td>\n",
       "      <td>53.0</td>\n",
       "    </tr>\n",
       "    <tr>\n",
       "      <th>9</th>\n",
       "      <td>United Kingdom</td>\n",
       "      <td>4551.0</td>\n",
       "      <td>52.0</td>\n",
       "    </tr>\n",
       "    <tr>\n",
       "      <th>10</th>\n",
       "      <td>Czech Republic</td>\n",
       "      <td>5234.0</td>\n",
       "      <td>56.0</td>\n",
       "    </tr>\n",
       "    <tr>\n",
       "      <th>14</th>\n",
       "      <td>Slovakia</td>\n",
       "      <td>5055.0</td>\n",
       "      <td>55.0</td>\n",
       "    </tr>\n",
       "    <tr>\n",
       "      <th>16</th>\n",
       "      <td>Bulgaria</td>\n",
       "      <td>4819.0</td>\n",
       "      <td>54.0</td>\n",
       "    </tr>\n",
       "  </tbody>\n",
       "</table>\n",
       "</div>"
      ],
      "text/plain": [
       "           Country  # of TV Shows  rank\n",
       "7          Hungary         4802.0  53.0\n",
       "9   United Kingdom         4551.0  52.0\n",
       "10  Czech Republic         5234.0  56.0\n",
       "14        Slovakia         5055.0  55.0\n",
       "16        Bulgaria         4819.0  54.0"
      ]
     },
     "execution_count": 33,
     "metadata": {},
     "output_type": "execute_result"
    }
   ],
   "source": [
    "#берем пять нужных\n",
    "basic[basic['rank']>len(basic['# of TV Shows'].unique())-5]"
   ]
  },
  {
   "cell_type": "code",
   "execution_count": 34,
   "id": "ed1da014",
   "metadata": {},
   "outputs": [],
   "source": [
    "#Топ5 стран Hungary, United Kingdom,Czech Republic,Slovakia,Bulgaria"
   ]
  },
  {
   "cell_type": "markdown",
   "id": "6c33608d",
   "metadata": {},
   "source": [
    "## 5) Какой процент среднего дохода россиянина будет составлять подписка Netflix?\n"
   ]
  },
  {
   "cell_type": "code",
   "execution_count": 35,
   "id": "d4d25c0c",
   "metadata": {},
   "outputs": [],
   "source": [
    "full_date_per_PPP_proc=pd.DataFrame(columns = ['Country','Basic','Standard','Premium'])"
   ]
  },
  {
   "cell_type": "code",
   "execution_count": 36,
   "id": "ac7ee613",
   "metadata": {},
   "outputs": [
    {
     "name": "stdout",
     "output_type": "stream",
     "text": [
      "           Country     Basic  Standard   Premium\n",
      "0        Argentina  1711.76%  2886.05%  4241.00%\n",
      "1        Australia    20.02%    30.95%    41.88%\n",
      "2          Austria    13.80%    22.44%    31.08%\n",
      "3          Belgium    16.66%    24.99%    33.33%\n",
      "4          Bolivia    90.47%   124.43%   158.40%\n",
      "..             ...       ...       ...       ...\n",
      "59         Ukraine    35.79%    53.72%    71.65%\n",
      "60  United Kingdom    12.72%    21.22%    29.71%\n",
      "61   United States    14.62%    22.68%    29.26%\n",
      "62         Uruguay    38.30%    55.34%    68.12%\n",
      "63       Venezuela   154.31%   212.24%   270.18%\n",
      "\n",
      "[64 rows x 4 columns]\n"
     ]
    }
   ],
   "source": [
    "full_date_per_PPP_proc['Basic'] = pd.Series(\n",
    "    [\"{0:.2f}%\".format(val*100) for val in full_date_per_PPP['Basic']], index = full_date_per_PPP.index)\n",
    "\n",
    "full_date_per_PPP_proc['Standard'] = pd.Series(\n",
    "    [\"{0:.2f}%\".format(val*100) for val in full_date_per_PPP['Standard']], index = full_date_per_PPP.index)\n",
    "\n",
    "full_date_per_PPP_proc['Premium'] = pd.Series(\n",
    "    [\"{0:.2f}%\".format(val*100) for val in full_date_per_PPP['Premium']], index = full_date_per_PPP.index)\n",
    "\n",
    "full_date_per_PPP_proc['Country']=full_date['Country']\n",
    "print(full_date_per_PPP_proc)"
   ]
  },
  {
   "cell_type": "code",
   "execution_count": 37,
   "id": "2833f06a",
   "metadata": {},
   "outputs": [
    {
     "data": {
      "text/html": [
       "<div>\n",
       "<style scoped>\n",
       "    .dataframe tbody tr th:only-of-type {\n",
       "        vertical-align: middle;\n",
       "    }\n",
       "\n",
       "    .dataframe tbody tr th {\n",
       "        vertical-align: top;\n",
       "    }\n",
       "\n",
       "    .dataframe thead th {\n",
       "        text-align: right;\n",
       "    }\n",
       "</style>\n",
       "<table border=\"1\" class=\"dataframe\">\n",
       "  <thead>\n",
       "    <tr style=\"text-align: right;\">\n",
       "      <th></th>\n",
       "      <th>Country</th>\n",
       "      <th>Basic</th>\n",
       "      <th>Standard</th>\n",
       "      <th>Premium</th>\n",
       "    </tr>\n",
       "  </thead>\n",
       "  <tbody>\n",
       "    <tr>\n",
       "      <th>47</th>\n",
       "      <td>Russia</td>\n",
       "      <td>2031.54%</td>\n",
       "      <td>2709.85%</td>\n",
       "      <td>3388.16%</td>\n",
       "    </tr>\n",
       "  </tbody>\n",
       "</table>\n",
       "</div>"
      ],
      "text/plain": [
       "   Country     Basic  Standard   Premium\n",
       "47  Russia  2031.54%  2709.85%  3388.16%"
      ]
     },
     "execution_count": 37,
     "metadata": {},
     "output_type": "execute_result"
    }
   ],
   "source": [
    "full_date_per_PPP_proc[full_date_per_PPP_proc['Country']=='Russia']"
   ]
  },
  {
   "cell_type": "code",
   "execution_count": 38,
   "id": "3c1d5b9d",
   "metadata": {},
   "outputs": [],
   "source": [
    "#Базовая подписка в России стоит как 2031% средних доходов, стандартная как 2710%, а премиальная как 3388% средних доходов."
   ]
  },
  {
   "cell_type": "markdown",
   "id": "938665dc",
   "metadata": {},
   "source": [
    "## 6) На каком месте будет Россия, если отсортировать страны по эффективности подписки (Cost Per Title)\n"
   ]
  },
  {
   "cell_type": "code",
   "execution_count": 39,
   "id": "8336fac6",
   "metadata": {},
   "outputs": [],
   "source": [
    "basic = pd.read_csv(\n",
    "    'https://docs.google.com/spreadsheets/d/1Tc_aiVXrCrMNQFFDMiJGQ3Gm35szGLps_FIsonCe38Q/export?gid=0&format=csv'\n",
    ")"
   ]
  },
  {
   "cell_type": "code",
   "execution_count": 40,
   "id": "fe5ea9cf",
   "metadata": {},
   "outputs": [],
   "source": [
    "#берём нужный данные\n",
    "basic=basic[['Country','Price per Title']]\n",
    "basic=basic.drop(index=[65,66,67,68])"
   ]
  },
  {
   "cell_type": "code",
   "execution_count": 41,
   "id": "de32c625",
   "metadata": {},
   "outputs": [],
   "source": [
    "basic=basic.sort_values(by=['Price per Title'], ascending=False)"
   ]
  },
  {
   "cell_type": "code",
   "execution_count": 42,
   "id": "8c176a01",
   "metadata": {},
   "outputs": [
    {
     "data": {
      "text/plain": [
       "['index']"
      ]
     },
     "execution_count": 42,
     "metadata": {},
     "output_type": "execute_result"
    }
   ],
   "source": [
    "#Пытаемся вспомнить,как функция называется\n",
    "[\n",
    "    i\n",
    "    for i in dir(pd.DataFrame())\n",
    "    if i.startswith('index')\n",
    "]"
   ]
  },
  {
   "cell_type": "code",
   "execution_count": 43,
   "id": "7e9d1985",
   "metadata": {},
   "outputs": [
    {
     "data": {
      "text/plain": [
       "Int64Index([25], dtype='int64')"
      ]
     },
     "execution_count": 43,
     "metadata": {},
     "output_type": "execute_result"
    }
   ],
   "source": [
    "basic[basic['Country']=='Russia'].index"
   ]
  },
  {
   "cell_type": "code",
   "execution_count": 44,
   "id": "4771cfca",
   "metadata": {},
   "outputs": [],
   "source": [
    "#Россия занимает 25 место из самых дорогих стран по Cost Per Title для базовой подписки"
   ]
  },
  {
   "cell_type": "code",
   "execution_count": 45,
   "id": "2616df67",
   "metadata": {},
   "outputs": [
    {
     "data": {
      "text/plain": [
       "Int64Index([17], dtype='int64')"
      ]
     },
     "execution_count": 45,
     "metadata": {},
     "output_type": "execute_result"
    }
   ],
   "source": [
    "Standard = pd.read_csv(\n",
    "    'https://docs.google.com/spreadsheets/d/1Tc_aiVXrCrMNQFFDMiJGQ3Gm35szGLps_FIsonCe38Q/export?gid=720312140&format=csv'\n",
    ")\n",
    "#берём нужный данные\n",
    "Standard=Standard[['Country','Price per Title']]\n",
    "Standard=Standard.drop(index=[65,66,67,68])\n",
    "Standard=Standard.sort_values(by=['Price per Title'], ascending=False)\n",
    "Standard[Standard['Country']=='Russia'].index\n",
    "#Россия занимает 17 место из самых дорогих стран по Cost Per Title для стандартной подписки"
   ]
  },
  {
   "cell_type": "code",
   "execution_count": 46,
   "id": "9c4875e3",
   "metadata": {},
   "outputs": [
    {
     "data": {
      "text/plain": [
       "Int64Index([17], dtype='int64')"
      ]
     },
     "execution_count": 46,
     "metadata": {},
     "output_type": "execute_result"
    }
   ],
   "source": [
    "Premium = pd.read_csv(\n",
    "    'https://docs.google.com/spreadsheets/d/1Tc_aiVXrCrMNQFFDMiJGQ3Gm35szGLps_FIsonCe38Q/export?gid=41907226&format=csv'\n",
    ")\n",
    "\n",
    "#берём нужный данные\n",
    "Premium=Premium[['Country','Price per Title']]\n",
    "Premium=Premium.drop(index=[65,66,67,68])\n",
    "\n",
    "Premium=Premium.sort_values(by=['Price per Title'], ascending=False)\n",
    "\n",
    "Premium[Premium['Country']=='Russia'].index\n",
    "\n",
    "#Россия занимает 17 место из самых дорогих стран по Cost Per Title для премиум подписки"
   ]
  },
  {
   "cell_type": "markdown",
   "id": "038d76f4",
   "metadata": {},
   "source": [
    "## 7) В какой стране лучше всего брать VPN для того, чтобы платить за Netflix меньше всего?"
   ]
  },
  {
   "cell_type": "code",
   "execution_count": 47,
   "id": "92b1a313",
   "metadata": {},
   "outputs": [
    {
     "data": {
      "text/html": [
       "<div>\n",
       "<style scoped>\n",
       "    .dataframe tbody tr th:only-of-type {\n",
       "        vertical-align: middle;\n",
       "    }\n",
       "\n",
       "    .dataframe tbody tr th {\n",
       "        vertical-align: top;\n",
       "    }\n",
       "\n",
       "    .dataframe thead th {\n",
       "        text-align: right;\n",
       "    }\n",
       "</style>\n",
       "<table border=\"1\" class=\"dataframe\">\n",
       "  <thead>\n",
       "    <tr style=\"text-align: right;\">\n",
       "      <th></th>\n",
       "      <th>Country</th>\n",
       "      <th>Basic</th>\n",
       "      <th>Standard</th>\n",
       "      <th>Premium</th>\n",
       "      <th>currency</th>\n",
       "    </tr>\n",
       "  </thead>\n",
       "  <tbody>\n",
       "    <tr>\n",
       "      <th>0</th>\n",
       "      <td>Argentina</td>\n",
       "      <td>379.00</td>\n",
       "      <td>639.00</td>\n",
       "      <td>939.00</td>\n",
       "      <td>ARS</td>\n",
       "    </tr>\n",
       "    <tr>\n",
       "      <th>1</th>\n",
       "      <td>Australia</td>\n",
       "      <td>10.99</td>\n",
       "      <td>16.99</td>\n",
       "      <td>22.99</td>\n",
       "      <td>AUS</td>\n",
       "    </tr>\n",
       "    <tr>\n",
       "      <th>2</th>\n",
       "      <td>Austria</td>\n",
       "      <td>7.99</td>\n",
       "      <td>12.99</td>\n",
       "      <td>17.99</td>\n",
       "      <td>EUR</td>\n",
       "    </tr>\n",
       "    <tr>\n",
       "      <th>3</th>\n",
       "      <td>Belgium</td>\n",
       "      <td>8.99</td>\n",
       "      <td>13.49</td>\n",
       "      <td>17.99</td>\n",
       "      <td>EUR</td>\n",
       "    </tr>\n",
       "    <tr>\n",
       "      <th>4</th>\n",
       "      <td>Bolivia</td>\n",
       "      <td>7.99</td>\n",
       "      <td>10.99</td>\n",
       "      <td>13.99</td>\n",
       "      <td>USD</td>\n",
       "    </tr>\n",
       "    <tr>\n",
       "      <th>...</th>\n",
       "      <td>...</td>\n",
       "      <td>...</td>\n",
       "      <td>...</td>\n",
       "      <td>...</td>\n",
       "      <td>...</td>\n",
       "    </tr>\n",
       "    <tr>\n",
       "      <th>60</th>\n",
       "      <td>Ukraine</td>\n",
       "      <td>4.99</td>\n",
       "      <td>7.49</td>\n",
       "      <td>9.99</td>\n",
       "      <td>EUR</td>\n",
       "    </tr>\n",
       "    <tr>\n",
       "      <th>61</th>\n",
       "      <td>United Kingdom</td>\n",
       "      <td>5.99</td>\n",
       "      <td>9.99</td>\n",
       "      <td>13.99</td>\n",
       "      <td>GBP</td>\n",
       "    </tr>\n",
       "    <tr>\n",
       "      <th>62</th>\n",
       "      <td>United States</td>\n",
       "      <td>9.99</td>\n",
       "      <td>15.49</td>\n",
       "      <td>19.99</td>\n",
       "      <td>USD</td>\n",
       "    </tr>\n",
       "    <tr>\n",
       "      <th>63</th>\n",
       "      <td>Uruguay</td>\n",
       "      <td>8.99</td>\n",
       "      <td>12.99</td>\n",
       "      <td>15.99</td>\n",
       "      <td>USD</td>\n",
       "    </tr>\n",
       "    <tr>\n",
       "      <th>64</th>\n",
       "      <td>Venezuela</td>\n",
       "      <td>7.99</td>\n",
       "      <td>10.99</td>\n",
       "      <td>13.99</td>\n",
       "      <td>USD</td>\n",
       "    </tr>\n",
       "  </tbody>\n",
       "</table>\n",
       "<p>65 rows × 5 columns</p>\n",
       "</div>"
      ],
      "text/plain": [
       "           Country   Basic  Standard  Premium currency\n",
       "0        Argentina  379.00    639.00   939.00      ARS\n",
       "1        Australia   10.99     16.99    22.99      AUS\n",
       "2          Austria    7.99     12.99    17.99      EUR\n",
       "3          Belgium    8.99     13.49    17.99      EUR\n",
       "4          Bolivia    7.99     10.99    13.99      USD\n",
       "..             ...     ...       ...      ...      ...\n",
       "60         Ukraine    4.99      7.49     9.99      EUR\n",
       "61  United Kingdom    5.99      9.99    13.99      GBP\n",
       "62   United States    9.99     15.49    19.99      USD\n",
       "63         Uruguay    8.99     12.99    15.99      USD\n",
       "64       Venezuela    7.99     10.99    13.99      USD\n",
       "\n",
       "[65 rows x 5 columns]"
      ]
     },
     "execution_count": 47,
     "metadata": {},
     "output_type": "execute_result"
    }
   ],
   "source": [
    "df"
   ]
  },
  {
   "cell_type": "code",
   "execution_count": 48,
   "id": "4e998431",
   "metadata": {},
   "outputs": [
    {
     "data": {
      "text/html": [
       "<div>\n",
       "<style scoped>\n",
       "    .dataframe tbody tr th:only-of-type {\n",
       "        vertical-align: middle;\n",
       "    }\n",
       "\n",
       "    .dataframe tbody tr th {\n",
       "        vertical-align: top;\n",
       "    }\n",
       "\n",
       "    .dataframe thead th {\n",
       "        text-align: right;\n",
       "    }\n",
       "</style>\n",
       "<table border=\"1\" class=\"dataframe\">\n",
       "  <thead>\n",
       "    <tr style=\"text-align: right;\">\n",
       "      <th></th>\n",
       "      <th>Country</th>\n",
       "      <th>Basic</th>\n",
       "      <th>Standard</th>\n",
       "      <th>Premium</th>\n",
       "      <th>currency</th>\n",
       "    </tr>\n",
       "  </thead>\n",
       "  <tbody>\n",
       "    <tr>\n",
       "      <th>60</th>\n",
       "      <td>Ukraine</td>\n",
       "      <td>4.99</td>\n",
       "      <td>7.49</td>\n",
       "      <td>9.99</td>\n",
       "      <td>EUR</td>\n",
       "    </tr>\n",
       "  </tbody>\n",
       "</table>\n",
       "</div>"
      ],
      "text/plain": [
       "    Country  Basic  Standard  Premium currency\n",
       "60  Ukraine   4.99      7.49     9.99      EUR"
      ]
     },
     "execution_count": 48,
     "metadata": {},
     "output_type": "execute_result"
    }
   ],
   "source": [
    "df[df['Premium']==df['Premium'].min()]"
   ]
  },
  {
   "cell_type": "code",
   "execution_count": 49,
   "id": "5b6e5251",
   "metadata": {},
   "outputs": [
    {
     "data": {
      "text/html": [
       "<div>\n",
       "<style scoped>\n",
       "    .dataframe tbody tr th:only-of-type {\n",
       "        vertical-align: middle;\n",
       "    }\n",
       "\n",
       "    .dataframe tbody tr th {\n",
       "        vertical-align: top;\n",
       "    }\n",
       "\n",
       "    .dataframe thead th {\n",
       "        text-align: right;\n",
       "    }\n",
       "</style>\n",
       "<table border=\"1\" class=\"dataframe\">\n",
       "  <thead>\n",
       "    <tr style=\"text-align: right;\">\n",
       "      <th></th>\n",
       "      <th>Country</th>\n",
       "      <th>Basic</th>\n",
       "      <th>Standard</th>\n",
       "      <th>Premium</th>\n",
       "      <th>currency</th>\n",
       "    </tr>\n",
       "  </thead>\n",
       "  <tbody>\n",
       "    <tr>\n",
       "      <th>60</th>\n",
       "      <td>Ukraine</td>\n",
       "      <td>4.99</td>\n",
       "      <td>7.49</td>\n",
       "      <td>9.99</td>\n",
       "      <td>EUR</td>\n",
       "    </tr>\n",
       "  </tbody>\n",
       "</table>\n",
       "</div>"
      ],
      "text/plain": [
       "    Country  Basic  Standard  Premium currency\n",
       "60  Ukraine   4.99      7.49     9.99      EUR"
      ]
     },
     "execution_count": 49,
     "metadata": {},
     "output_type": "execute_result"
    }
   ],
   "source": [
    "df[df['Basic']==df['Basic'].min()]"
   ]
  },
  {
   "cell_type": "code",
   "execution_count": 50,
   "id": "248b75ae",
   "metadata": {},
   "outputs": [
    {
     "data": {
      "text/html": [
       "<div>\n",
       "<style scoped>\n",
       "    .dataframe tbody tr th:only-of-type {\n",
       "        vertical-align: middle;\n",
       "    }\n",
       "\n",
       "    .dataframe tbody tr th {\n",
       "        vertical-align: top;\n",
       "    }\n",
       "\n",
       "    .dataframe thead th {\n",
       "        text-align: right;\n",
       "    }\n",
       "</style>\n",
       "<table border=\"1\" class=\"dataframe\">\n",
       "  <thead>\n",
       "    <tr style=\"text-align: right;\">\n",
       "      <th></th>\n",
       "      <th>Country</th>\n",
       "      <th>Basic</th>\n",
       "      <th>Standard</th>\n",
       "      <th>Premium</th>\n",
       "      <th>currency</th>\n",
       "    </tr>\n",
       "  </thead>\n",
       "  <tbody>\n",
       "    <tr>\n",
       "      <th>60</th>\n",
       "      <td>Ukraine</td>\n",
       "      <td>4.99</td>\n",
       "      <td>7.49</td>\n",
       "      <td>9.99</td>\n",
       "      <td>EUR</td>\n",
       "    </tr>\n",
       "  </tbody>\n",
       "</table>\n",
       "</div>"
      ],
      "text/plain": [
       "    Country  Basic  Standard  Premium currency\n",
       "60  Ukraine   4.99      7.49     9.99      EUR"
      ]
     },
     "execution_count": 50,
     "metadata": {},
     "output_type": "execute_result"
    }
   ],
   "source": [
    "df[df['Standard']==df['Standard'].min()]"
   ]
  },
  {
   "cell_type": "code",
   "execution_count": 51,
   "id": "9ec48bc3",
   "metadata": {},
   "outputs": [],
   "source": [
    "#Лучше всего использовать vpn Украины"
   ]
  },
  {
   "cell_type": "code",
   "execution_count": null,
   "id": "322864b8",
   "metadata": {},
   "outputs": [],
   "source": []
  }
 ],
 "metadata": {
  "kernelspec": {
   "display_name": "Python 3 (ipykernel)",
   "language": "python",
   "name": "python3"
  },
  "language_info": {
   "codemirror_mode": {
    "name": "ipython",
    "version": 3
   },
   "file_extension": ".py",
   "mimetype": "text/x-python",
   "name": "python",
   "nbconvert_exporter": "python",
   "pygments_lexer": "ipython3",
   "version": "3.9.7"
  }
 },
 "nbformat": 4,
 "nbformat_minor": 5
}
